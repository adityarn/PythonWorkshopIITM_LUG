{
 "cells": [
  {
   "cell_type": "markdown",
   "metadata": {},
   "source": [
    "## The following topics are proposed to be covered:\n",
    "\n",
    "1. #### Python for scientific computing: Numpy an introduction\n",
    "    1. Vectorization - how to achieve higher performance in iterated operations. Numpy is a precompiled and optimized library / package within Python that is written in Cython (which is a wrapper for C in Python). Vectorization of code essentially pushes the operations into the precompiled layer of Numpy which allows higher performance that is more or less equivalent to that of C.\n",
    "    2. Using Numba and Cython to write *typed* code which will run faster, and again, be more or less equivalent to the performance of C.\n",
    "    \n",
    "1. #### Pandas in Python for dataset analysis and visualization\n",
    "    1. Why Pandas?\n",
    "    2. How to read in data, perform preliminary operations to index it correctly\n",
    "    3. How to clean the data, remove null values etc.\n",
    "    3. Perform basic dataset operations\n",
    "    3. Visualization of data\n",
    "    \n",
    "1. #### Jupyter notebooks - To promote reproducibility and collaboration in Science\n",
    "    1. What are *Jupyter Notebooks*?\n",
    "    1. How can one create and share their entire scientific workflow in such a manner that it becomes easily understandable and easily reproduced"
   ]
  },
  {
   "cell_type": "markdown",
   "metadata": {},
   "source": [
    "## Let us begin with Numpy"
   ]
  },
  {
   "cell_type": "code",
   "execution_count": 105,
   "metadata": {
    "collapsed": true
   },
   "outputs": [],
   "source": [
    "import numpy as np\n",
    "\n",
    "pArr = [i for i in range(10000)]\n",
    "pArr[1] = 1."
   ]
  },
  {
   "cell_type": "code",
   "execution_count": 106,
   "metadata": {},
   "outputs": [
    {
     "name": "stdout",
     "output_type": "stream",
     "text": [
      "<type 'list'> <type 'int'> <type 'float'> <type 'int'>\n"
     ]
    }
   ],
   "source": [
    "print type(pArr), type(pArr[0]), type(pArr[1]), type(pArr[2])"
   ]
  },
  {
   "cell_type": "markdown",
   "metadata": {},
   "source": [
    "We have created a list in Python called *pArr*. Python uses dynamic typing as seen above. Whenever Python code runs, the compiler checks each element for its type before performing operations on it. This imposes an overhead on operations on lists or arrays that need to be done on every element in the list."
   ]
  },
  {
   "cell_type": "code",
   "execution_count": 107,
   "metadata": {},
   "outputs": [
    {
     "name": "stdout",
     "output_type": "stream",
     "text": [
      "1000 loops, best of 3: 660 µs per loop\n"
     ]
    }
   ],
   "source": [
    "%%timeit\n",
    "for i in range(10000):\n",
    "    pArr[i] = pArr[i] + 1."
   ]
  },
  {
   "cell_type": "markdown",
   "metadata": {},
   "source": [
    "Now let's create a Numpy array"
   ]
  },
  {
   "cell_type": "code",
   "execution_count": 112,
   "metadata": {
    "collapsed": true
   },
   "outputs": [],
   "source": [
    "nArr = np.arange(10000)"
   ]
  },
  {
   "cell_type": "code",
   "execution_count": 113,
   "metadata": {},
   "outputs": [
    {
     "data": {
      "text/plain": [
       "array([   0,    1,    2, ..., 9997, 9998, 9999])"
      ]
     },
     "execution_count": 113,
     "metadata": {},
     "output_type": "execute_result"
    }
   ],
   "source": [
    "nArr"
   ]
  },
  {
   "cell_type": "code",
   "execution_count": 114,
   "metadata": {},
   "outputs": [
    {
     "name": "stdout",
     "output_type": "stream",
     "text": [
      "<type 'numpy.ndarray'> <type 'numpy.int64'>\n"
     ]
    }
   ],
   "source": [
    "print type(nArr), type(nArr[0])"
   ]
  },
  {
   "cell_type": "code",
   "execution_count": 115,
   "metadata": {},
   "outputs": [
    {
     "name": "stdout",
     "output_type": "stream",
     "text": [
      "The slowest run took 6.57 times longer than the fastest. This could mean that an intermediate result is being cached.\n",
      "100000 loops, best of 3: 18.9 µs per loop\n"
     ]
    }
   ],
   "source": [
    "%%timeit\n",
    "nArr[:] = nArr[:] + 1."
   ]
  },
  {
   "cell_type": "code",
   "execution_count": 10,
   "metadata": {},
   "outputs": [
    {
     "data": {
      "text/plain": [
       "37.30769230769231"
      ]
     },
     "execution_count": 10,
     "metadata": {},
     "output_type": "execute_result"
    }
   ],
   "source": [
    "679/18.2"
   ]
  },
  {
   "cell_type": "markdown",
   "metadata": {},
   "source": [
    "We created an integer array called nArr and we add a float 1.0 to every element, we see that there is a 37 times speedup in the code. Can we make it better by ensuring that the type of variables being operated on remain the same?"
   ]
  },
  {
   "cell_type": "code",
   "execution_count": 86,
   "metadata": {
    "collapsed": true
   },
   "outputs": [],
   "source": [
    "npfloatArr = np.linspace(0.,1000000.,1.)"
   ]
  },
  {
   "cell_type": "code",
   "execution_count": 87,
   "metadata": {},
   "outputs": [
    {
     "name": "stdout",
     "output_type": "stream",
     "text": [
      "<type 'numpy.ndarray'> <type 'numpy.float64'>\n"
     ]
    }
   ],
   "source": [
    "print type(npfloatArr), type(npfloatArr[0])"
   ]
  },
  {
   "cell_type": "code",
   "execution_count": 88,
   "metadata": {},
   "outputs": [
    {
     "name": "stdout",
     "output_type": "stream",
     "text": [
      "The slowest run took 24.63 times longer than the fastest. This could mean that an intermediate result is being cached.\n",
      "1000000 loops, best of 3: 939 ns per loop\n"
     ]
    }
   ],
   "source": [
    "%%timeit\n",
    "npfloatArr[:] = npfloatArr[:] + 1."
   ]
  },
  {
   "cell_type": "code",
   "execution_count": 14,
   "metadata": {},
   "outputs": [
    {
     "data": {
      "text/plain": [
       "832.1078431372549"
      ]
     },
     "execution_count": 14,
     "metadata": {},
     "output_type": "execute_result"
    }
   ],
   "source": [
    "679/.816"
   ]
  },
  {
   "cell_type": "markdown",
   "metadata": {},
   "source": [
    "**By ensuring that the type of the variable remains the same, ie. all are float64, here we achieve an 832 times improvement in performance!**"
   ]
  },
  {
   "cell_type": "code",
   "execution_count": 89,
   "metadata": {
    "collapsed": true
   },
   "outputs": [],
   "source": [
    "pArr = [i for i in range(1000000)]"
   ]
  },
  {
   "cell_type": "code",
   "execution_count": 90,
   "metadata": {
    "collapsed": true
   },
   "outputs": [],
   "source": [
    "from numba import double\n",
    "from numba.decorators import jit, autojit\n",
    "import numba"
   ]
  },
  {
   "cell_type": "code",
   "execution_count": 91,
   "metadata": {
    "collapsed": true
   },
   "outputs": [],
   "source": [
    "def myloop_python():\n",
    "    for i in range(1000000):\n",
    "        pArr[i] = pArr[i] + 1"
   ]
  },
  {
   "cell_type": "code",
   "execution_count": 92,
   "metadata": {},
   "outputs": [
    {
     "name": "stdout",
     "output_type": "stream",
     "text": [
      "1 loop, best of 3: 111 ms per loop\n"
     ]
    }
   ],
   "source": [
    "myloop_numba = autojit(myloop_python)\n",
    "%timeit myloop_numba()"
   ]
  },
  {
   "cell_type": "code",
   "execution_count": 93,
   "metadata": {},
   "outputs": [
    {
     "name": "stdout",
     "output_type": "stream",
     "text": [
      "10 loops, best of 3: 71.5 ms per loop\n"
     ]
    }
   ],
   "source": [
    "%timeit myloop_python()"
   ]
  },
  {
   "cell_type": "code",
   "execution_count": 94,
   "metadata": {},
   "outputs": [
    {
     "name": "stdout",
     "output_type": "stream",
     "text": [
      "10000 loops, best of 3: 85.2 µs per loop\n"
     ]
    }
   ],
   "source": [
    "%%timeit\n",
    "@numba.jit\n",
    "def myloop_python():\n",
    "    for i in range(1000000):\n",
    "        pArr[i] = pArr[i] + 1"
   ]
  },
  {
   "cell_type": "markdown",
   "metadata": {},
   "source": [
    "Again, we see that there is an improvement in performance, an 8 times improvement, but not as much as we saw with Numpy vectorization. What is going on here?"
   ]
  },
  {
   "cell_type": "code",
   "execution_count": 70,
   "metadata": {},
   "outputs": [
    {
     "name": "stdout",
     "output_type": "stream",
     "text": [
      "The Cython extension is already loaded. To reload it, use:\n",
      "  %reload_ext Cython\n"
     ]
    }
   ],
   "source": [
    "import cython\n",
    "import pstats, cProfile\n",
    "%load_ext Cython"
   ]
  },
  {
   "cell_type": "code",
   "execution_count": 96,
   "metadata": {},
   "outputs": [
    {
     "name": "stdout",
     "output_type": "stream",
     "text": [
      "Total time = 3.09944152832e-06 s\n"
     ]
    }
   ],
   "source": [
    "%%cython\n",
    "import time\n",
    "start = time.time()\n",
    "cdef myCloop():\n",
    "    cdef int i=0\n",
    "    cdef int cArr[1000000]\n",
    "    for i in range(1000000):\n",
    "        cArr[i] = 1 + 2\n",
    "        \n",
    "myCloop()\n",
    "print \"Total time = \"+str(time.time() - start)+\" s\""
   ]
  },
  {
   "cell_type": "markdown",
   "metadata": {},
   "source": [
    "Numpy seems to be about as fast as Cython, 0.9$\\mu s$ vs 3.1$\\mu s$"
   ]
  },
  {
   "cell_type": "code",
   "execution_count": 97,
   "metadata": {},
   "outputs": [
    {
     "name": "stdout",
     "output_type": "stream",
     "text": [
      "1000 loops, best of 3: 1.24 ms per loop\n"
     ]
    }
   ],
   "source": [
    "%%timeit\n",
    "nArr = np.zeros(1000000)\n",
    "nArr[:] = 1 + 2"
   ]
  },
  {
   "cell_type": "markdown",
   "metadata": {},
   "source": [
    "When we increase the size of arrays involved, we see that Cython beats Numpy. **For large arrays, Cython would be the better choice.** However, for most applications, such as the usual Linear Algebra operations, there are libraries available within **Scipy**. Their algorithms are **optimised** for performance and studies show that they are comparable to C when it comes to large data sizes."
   ]
  },
  {
   "cell_type": "markdown",
   "metadata": {},
   "source": [
    "### Let's look at an example of Poisson's equation\n",
    "\n",
    "$$\\frac{d^2 \\theta}{dx^2} + \\frac{d^2 \\theta}{dy^2} = 0 $$\n",
    "\n",
    "For the following BC:\n",
    "$\\theta_{x=0} = 1$\n",
    "\n",
    "The Discretized form of the equation is:\n",
    "$$\\frac{\\theta_{(i-1),j} - 2\\theta_{i,j} + \\theta_{(i+1),j}}{\\Delta x^2} + \\frac{\\theta_{i,(j-1)} - 2\\theta_{i,j} + \\theta_{i,(j+1)}}{\\Delta y^2} = 0 $$\n",
    "\n",
    "Writing the same in the traditional way with loops would produce the following function:"
   ]
  },
  {
   "cell_type": "code",
   "execution_count": 29,
   "metadata": {
    "collapsed": true
   },
   "outputs": [],
   "source": [
    "def compute_Poissons_looped(N=10000):\n",
    "    theta = np.zeros((N,N))\n",
    "    \n",
    "    dx = 1./float(N)\n",
    "    \n",
    "    \n",
    "    theta[:,0] = 1.\n",
    "    counter = 0\n",
    "    while(counter < 10):\n",
    "        for i in range(1,N-1,1):\n",
    "            for j in range(1,N-1, 1):\n",
    "                theta[i,j] = (theta[i,j+1] + theta[i,j-1] + theta[i+1,j] + theta[i-1,j]) * 0.25\n",
    "        counter+=1\n",
    "            "
   ]
  },
  {
   "cell_type": "code",
   "execution_count": 32,
   "metadata": {},
   "outputs": [
    {
     "name": "stdout",
     "output_type": "stream",
     "text": [
      "10 loops, best of 3: 66.2 ms per loop\n"
     ]
    }
   ],
   "source": [
    "%%timeit\n",
    "#import time\n",
    "start = time.time()\n",
    "compute_Poissons_looped(N=100)\n",
    "#print \"total time elapsed = \"+str(time.time() - start)"
   ]
  },
  {
   "cell_type": "code",
   "execution_count": 33,
   "metadata": {
    "collapsed": true
   },
   "outputs": [],
   "source": [
    "def compute_Poissons_vectorized(N=10000):\n",
    "    theta = np.zeros((N,N))\n",
    "    dx = 1./float(N)\n",
    "    theta[:,0] = 1.\n",
    "    counter = 0\n",
    "    while(counter<10):\n",
    "        theta[1:-1,1:-1] = (theta[1:-1, 2:] + theta[1:-1, :-2] + theta[2:, 1:-1] + theta[:-2, 1:-1] ) * 0.25\n",
    "        counter+=1"
   ]
  },
  {
   "cell_type": "code",
   "execution_count": 34,
   "metadata": {},
   "outputs": [
    {
     "name": "stdout",
     "output_type": "stream",
     "text": [
      "1000 loops, best of 3: 427 µs per loop\n"
     ]
    }
   ],
   "source": [
    "%%timeit\n",
    "#start = time.time()\n",
    "compute_Poissons_vectorized(N=100)\n",
    "#print \"total time elapsed = \"+str(time.time() - start)"
   ]
  },
  {
   "cell_type": "code",
   "execution_count": 36,
   "metadata": {},
   "outputs": [
    {
     "data": {
      "text/plain": [
       "155.03512880562062"
      ]
     },
     "execution_count": 36,
     "metadata": {},
     "output_type": "execute_result"
    }
   ],
   "source": [
    "66.2/.427"
   ]
  },
  {
   "cell_type": "markdown",
   "metadata": {},
   "source": [
    "So we see a 155 $\\times$ speedup between vectorized and pure python code. Let's try out the pure python code with a numba jit call:"
   ]
  },
  {
   "cell_type": "code",
   "execution_count": 37,
   "metadata": {
    "collapsed": true
   },
   "outputs": [],
   "source": [
    "@numba.jit\n",
    "def compute_Poissons_numba(N=10000):\n",
    "    theta = np.zeros((N,N))\n",
    "    \n",
    "    dx = 1./float(N)\n",
    "    \n",
    "    \n",
    "    theta[:,0] = 1.\n",
    "    counter = 0\n",
    "    while(counter < 10):\n",
    "        for i in range(1,N-1,1):\n",
    "            for j in range(1,N-1, 1):\n",
    "                theta[i,j] = (theta[i,j+1] + theta[i,j-1] + theta[i+1,j] + theta[i-1,j]) * 0.25\n",
    "        counter+=1"
   ]
  },
  {
   "cell_type": "code",
   "execution_count": 38,
   "metadata": {},
   "outputs": [
    {
     "name": "stdout",
     "output_type": "stream",
     "text": [
      "The slowest run took 315.20 times longer than the fastest. This could mean that an intermediate result is being cached.\n",
      "1000 loops, best of 3: 479 µs per loop\n"
     ]
    }
   ],
   "source": [
    "%%timeit\n",
    "#start = time.time()\n",
    "compute_Poissons_numba(N=100)\n",
    "#print \"total time elapsed = \"+str(time.time() - start)"
   ]
  },
  {
   "cell_type": "markdown",
   "metadata": {},
   "source": [
    "Numba and Numpy seem to be similar in performance, let's test with larger array sizes"
   ]
  },
  {
   "cell_type": "code",
   "execution_count": 41,
   "metadata": {},
   "outputs": [
    {
     "name": "stdout",
     "output_type": "stream",
     "text": [
      "1 loop, best of 3: 6.75 s per loop\n"
     ]
    }
   ],
   "source": [
    "%%timeit\n",
    "compute_Poissons_vectorized(N=10000)"
   ]
  },
  {
   "cell_type": "code",
   "execution_count": 42,
   "metadata": {},
   "outputs": [
    {
     "name": "stdout",
     "output_type": "stream",
     "text": [
      "1 loop, best of 3: 5.5 s per loop\n"
     ]
    }
   ],
   "source": [
    "%%timeit\n",
    "compute_Poissons_numba(N=10000)"
   ]
  },
  {
   "cell_type": "code",
   "execution_count": 122,
   "metadata": {},
   "outputs": [
    {
     "name": "stdout",
     "output_type": "stream",
     "text": [
      "Total time = 6.89081811905 s\n"
     ]
    }
   ],
   "source": [
    "%%cython\n",
    "from cpython cimport array\n",
    "import array\n",
    "import numpy as np\n",
    "import time\n",
    "\n",
    "start = time.time()\n",
    "cdef compute_Poissons_cython(N=1000):\n",
    "    cdef int i=0\n",
    "    cdef int j=0\n",
    "    cdef int counter =0\n",
    "    theta = np.zeros((N,N))\n",
    "    theta[:,0] = 1.\n",
    "    cdef double [:, :] Theta = theta\n",
    "        \n",
    "    while(counter < 10):\n",
    "        for i in range(1,N-1,1):\n",
    "            for j in range(1,N-1,1):\n",
    "                Theta[i,j] = (Theta[i,j+1] + Theta[i,j-1] + Theta[i+1,j] + Theta[i-1,j]) * 0.25\n",
    "        counter+=1\n",
    "            \n",
    "compute_Poissons_cython(N=10000)\n",
    "\n",
    "print \"Total time = \"+str(time.time() - start)+\" s\""
   ]
  },
  {
   "cell_type": "markdown",
   "metadata": {},
   "source": [
    "The pure Python function was solving only a 100 $\\times$ 100 array, and it took 427 µs\n",
    "The Numba, Numpy, and Cython methods solve a $10^4 \\times 10^4$ array in about 6s"
   ]
  }
 ],
 "metadata": {
  "kernelspec": {
   "display_name": "Python 2",
   "language": "python",
   "name": "python2"
  },
  "language_info": {
   "codemirror_mode": {
    "name": "ipython",
    "version": 2
   },
   "file_extension": ".py",
   "mimetype": "text/x-python",
   "name": "python",
   "nbconvert_exporter": "python",
   "pygments_lexer": "ipython2",
   "version": "2.7.13"
  }
 },
 "nbformat": 4,
 "nbformat_minor": 2
}
