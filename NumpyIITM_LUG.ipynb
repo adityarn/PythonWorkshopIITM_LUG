{
 "cells": [
  {
   "cell_type": "markdown",
   "metadata": {},
   "source": [
    "## The following topics are proposed to be covered:\n",
    "\n",
    "1. #### Python for scientific computing: Numpy an introduction\n",
    "    1. Vectorization - how to achieve higher performance in iterated operations. Numpy is a precompiled and optimized library / package within Python that is written in Cython (which is a wrapper for C in Python). Vectorization of code essentially pushes the operations into the precompiled layer of Numpy which allows higher performance that is more or less equivalent to that of C.\n",
    "    2. Using Numba and Cython to write *typed* code which will run faster, and again, be more or less equivalent to the performance of C.\n",
    "    \n",
    "1. #### Pandas in Python for dataset analysis and visualization\n",
    "    1. Why Pandas?\n",
    "    2. How to read in data, perform preliminary operations to index it correctly\n",
    "    3. How to clean the data, remove null values etc.\n",
    "    3. Perform basic dataset operations\n",
    "    3. Visualization of data\n",
    "    \n",
    "1. #### Jupyter notebooks - To promote reproducibility and collaboration in Science\n",
    "    1. What are *Jupyter Notebooks*?\n",
    "    1. How can one create and share their entire scientific workflow in such a manner that it becomes easily understandable and easily reproduced"
   ]
  },
  {
   "cell_type": "markdown",
   "metadata": {},
   "source": [
    "## Let us begin with Numpy"
   ]
  },
  {
   "cell_type": "code",
   "execution_count": 7,
   "metadata": {
    "collapsed": true
   },
   "outputs": [],
   "source": [
    "import numpy as np\n",
    "\n",
    "pArr = [i for i in range(10000)]\n",
    "pArr[1] = 1."
   ]
  },
  {
   "cell_type": "code",
   "execution_count": 9,
   "metadata": {},
   "outputs": [
    {
     "name": "stdout",
     "output_type": "stream",
     "text": [
      "<type 'list'> <type 'int'> <type 'float'> <type 'int'>\n"
     ]
    }
   ],
   "source": [
    "print type(pArr), type(pArr[0]), type(pArr[1]), type(pArr[2])"
   ]
  },
  {
   "cell_type": "markdown",
   "metadata": {},
   "source": [
    "We have created a list in Python called *pArr*. Python uses dynamic typing as seen above. Whenever Python code runs, the compiler checks each element for its type before performing operations on it. This imposes an overhead on operations on lists or arrays that need to be done on every element in the list."
   ]
  },
  {
   "cell_type": "code",
   "execution_count": 29,
   "metadata": {},
   "outputs": [
    {
     "name": "stdout",
     "output_type": "stream",
     "text": [
      "1000 loops, best of 3: 679 µs per loop\n"
     ]
    }
   ],
   "source": [
    "%%timeit -q\n",
    "for i in range(10000):\n",
    "    pArr[i] = pArr[i] + 1."
   ]
  },
  {
   "cell_type": "markdown",
   "metadata": {},
   "source": [
    "Now let's create a Numpy array"
   ]
  },
  {
   "cell_type": "code",
   "execution_count": 30,
   "metadata": {
    "collapsed": true
   },
   "outputs": [],
   "source": [
    "nArr = np.arange(10000)"
   ]
  },
  {
   "cell_type": "code",
   "execution_count": 31,
   "metadata": {},
   "outputs": [
    {
     "data": {
      "text/plain": [
       "array([   0,    1,    2, ..., 9997, 9998, 9999])"
      ]
     },
     "execution_count": 31,
     "metadata": {},
     "output_type": "execute_result"
    }
   ],
   "source": [
    "nArr"
   ]
  },
  {
   "cell_type": "code",
   "execution_count": 38,
   "metadata": {},
   "outputs": [
    {
     "name": "stdout",
     "output_type": "stream",
     "text": [
      "<type 'numpy.ndarray'> <type 'numpy.int64'>\n"
     ]
    }
   ],
   "source": [
    "print type(nArr), type(nArr[0])"
   ]
  },
  {
   "cell_type": "code",
   "execution_count": 33,
   "metadata": {},
   "outputs": [
    {
     "name": "stdout",
     "output_type": "stream",
     "text": [
      "The slowest run took 7.89 times longer than the fastest. This could mean that an intermediate result is being cached.\n",
      "10000 loops, best of 3: 18.2 µs per loop\n"
     ]
    }
   ],
   "source": [
    "%%timeit -q\n",
    "nArr[:] = nArr[:] + 1."
   ]
  },
  {
   "cell_type": "code",
   "execution_count": 44,
   "metadata": {},
   "outputs": [
    {
     "data": {
      "text/plain": [
       "37.30769230769231"
      ]
     },
     "execution_count": 44,
     "metadata": {},
     "output_type": "execute_result"
    }
   ],
   "source": [
    "679/18.2"
   ]
  },
  {
   "cell_type": "markdown",
   "metadata": {},
   "source": [
    "We created an integer array called nArr and we add a float 1.0 to every element, we see that there is a 37 times speedup in the code. Can we make it better by ensuring that the type of variables being operated on remain the same?"
   ]
  },
  {
   "cell_type": "code",
   "execution_count": 45,
   "metadata": {
    "collapsed": true
   },
   "outputs": [],
   "source": [
    "npfloatArr = np.linspace(0.,10000.,1.)"
   ]
  },
  {
   "cell_type": "code",
   "execution_count": 46,
   "metadata": {},
   "outputs": [
    {
     "name": "stdout",
     "output_type": "stream",
     "text": [
      "<type 'numpy.ndarray'> <type 'numpy.float64'>\n"
     ]
    }
   ],
   "source": [
    "print type(npfloatArr), type(npfloatArr[0])"
   ]
  },
  {
   "cell_type": "code",
   "execution_count": 43,
   "metadata": {},
   "outputs": [
    {
     "name": "stdout",
     "output_type": "stream",
     "text": [
      "The slowest run took 31.85 times longer than the fastest. This could mean that an intermediate result is being cached.\n",
      "1000000 loops, best of 3: 816 ns per loop\n"
     ]
    }
   ],
   "source": [
    "%%timeit -q\n",
    "npfloatArr[:] = npfloatArr[:] + 1."
   ]
  },
  {
   "cell_type": "code",
   "execution_count": 47,
   "metadata": {},
   "outputs": [
    {
     "data": {
      "text/plain": [
       "832.1078431372549"
      ]
     },
     "execution_count": 47,
     "metadata": {},
     "output_type": "execute_result"
    }
   ],
   "source": [
    "679/.816"
   ]
  },
  {
   "cell_type": "markdown",
   "metadata": {},
   "source": [
    "**By ensuring that the type of the variable remains the same, ie. all are float64, here we achieve an 832 times improvement in performance!**"
   ]
  },
  {
   "cell_type": "code",
   "execution_count": 144,
   "metadata": {
    "collapsed": true
   },
   "outputs": [],
   "source": [
    "pArr = [i for i in range(1000000)]"
   ]
  },
  {
   "cell_type": "code",
   "execution_count": 105,
   "metadata": {
    "collapsed": true
   },
   "outputs": [],
   "source": [
    "from numba import double\n",
    "from numba.decorators import jit, autojit"
   ]
  },
  {
   "cell_type": "code",
   "execution_count": 109,
   "metadata": {
    "collapsed": true
   },
   "outputs": [],
   "source": [
    "def myloop_python():\n",
    "    for i in range(1000000):\n",
    "        pArr[i] = pArr[i] + 1"
   ]
  },
  {
   "cell_type": "code",
   "execution_count": 112,
   "metadata": {},
   "outputs": [
    {
     "name": "stdout",
     "output_type": "stream",
     "text": [
      "1 loop, best of 3: 112 ms per loop\n"
     ]
    }
   ],
   "source": [
    "myloop_numba = autojit(myloop_python)\n",
    "%timeit myloop_numba()"
   ]
  },
  {
   "cell_type": "code",
   "execution_count": 113,
   "metadata": {},
   "outputs": [
    {
     "name": "stdout",
     "output_type": "stream",
     "text": [
      "10 loops, best of 3: 72.7 ms per loop\n"
     ]
    }
   ],
   "source": [
    "%timeit myloop_python()"
   ]
  },
  {
   "cell_type": "code",
   "execution_count": 114,
   "metadata": {},
   "outputs": [
    {
     "name": "stdout",
     "output_type": "stream",
     "text": [
      "10000 loops, best of 3: 87.4 µs per loop\n"
     ]
    }
   ],
   "source": [
    "%%timeit\n",
    "@numba.jit\n",
    "def myloop_python():\n",
    "    for i in range(1000000):\n",
    "        pArr[i] = pArr[i] + 1"
   ]
  },
  {
   "cell_type": "markdown",
   "metadata": {},
   "source": [
    "Again, we see that there is an improvement in performance, an 8 times improvement, but not as much as we saw with Numpy vectorization. What is going on here?"
   ]
  },
  {
   "cell_type": "code",
   "execution_count": 86,
   "metadata": {
    "collapsed": true
   },
   "outputs": [],
   "source": [
    "import cython\n",
    "%load_ext Cython"
   ]
  },
  {
   "cell_type": "code",
   "execution_count": 100,
   "metadata": {},
   "outputs": [
    {
     "name": "stdout",
     "output_type": "stream",
     "text": [
      "The slowest run took 1459.88 times longer than the fastest. This could mean that an intermediate result is being cached.\n",
      "10000 loops, best of 3: 90.5 µs per loop\n"
     ]
    }
   ],
   "source": [
    "%%timeit\n",
    "%%cython\n",
    "cdef myCloop():\n",
    "    cdef int i=0\n",
    "    cdef int cArr[1000000]\n",
    "    for i in range(1000000):\n",
    "        cArr[i] = 1 + 2"
   ]
  },
  {
   "cell_type": "markdown",
   "metadata": {},
   "source": [
    "#### Numpy still seems to be a 100 times faster than both cython and numba!"
   ]
  },
  {
   "cell_type": "code",
   "execution_count": 101,
   "metadata": {},
   "outputs": [
    {
     "name": "stdout",
     "output_type": "stream",
     "text": [
      "1000 loops, best of 3: 1.55 ms per loop\n"
     ]
    }
   ],
   "source": [
    "%%timeit\n",
    "nArr = np.arange(1000000)\n",
    "nArr[:] = 1 + 2"
   ]
  },
  {
   "cell_type": "markdown",
   "metadata": {},
   "source": [
    "When we increase the size of arrays involved, we see that Cython beats Numpy. For large arrays, Cython would be the better choice. However, for most applications, such as the usual Linear Algebra operations, there are libraries available within Scipy. Their algorithms are optimised for performance and studies show that they are comparable to C when it comes to large data sizes."
   ]
  },
  {
   "cell_type": "markdown",
   "metadata": {},
   "source": [
    "### Let's look at an example of Poisson's equation\n",
    "\n",
    "$$\\frac{d^2 \\theta}{dx^2} + \\frac{d^2 \\theta}{dy^2} = 0 $$\n",
    "\n",
    "For the following BC:\n",
    "$\\theta_{x=0} = 1$\n",
    "\n",
    "The Discretized form of the equation is:\n",
    "$$\\frac{\\theta_{(i-1),j} - 2\\theta_{i,j} + \\theta_{(i+1),j}}{\\Delta x^2} + \\frac{\\theta_{i,(j-1)} - 2\\theta_{i,j} + \\theta_{i,(j+1)}}{\\Delta y^2} = 0 $$\n",
    "\n",
    "Writing the same in the traditional way with loops would produce the following function:"
   ]
  },
  {
   "cell_type": "code",
   "execution_count": 166,
   "metadata": {
    "collapsed": true
   },
   "outputs": [],
   "source": [
    "def compute_Poissons_looped(N=10000):\n",
    "    theta = np.zeros((N,N))\n",
    "    \n",
    "    dx = 1./float(N)\n",
    "    \n",
    "    \n",
    "    theta[:,0] = 1.\n",
    "    counter = 0\n",
    "    while(counter < 10):\n",
    "        for i in range(1,N-1,1):\n",
    "            for j in range(1,N-1, 1):\n",
    "                theta[i,j] = (theta[i,j+1] + theta[i,j-1] + theta[i+1,j] + theta[i-1,j]) * 0.25\n",
    "            counter+=1\n",
    "            "
   ]
  },
  {
   "cell_type": "code",
   "execution_count": 167,
   "metadata": {},
   "outputs": [
    {
     "name": "stdout",
     "output_type": "stream",
     "text": [
      "total time elapsed = 70.1255040169\n"
     ]
    }
   ],
   "source": [
    "import time\n",
    "start = time.time()\n",
    "compute_Poissons_looped(N=10000)\n",
    "print \"total time elapsed = \"+str(time.time() - start)"
   ]
  },
  {
   "cell_type": "code",
   "execution_count": 168,
   "metadata": {
    "collapsed": true
   },
   "outputs": [],
   "source": [
    "def compute_Poissons_vectorized(N=10000):\n",
    "    theta = np.zeros((N,N))\n",
    "    dx = 1./float(N)\n",
    "    theta[:,0] = 1.\n",
    "    counter = 0\n",
    "    while(counter<10):\n",
    "        theta[1:-1,1:-1] = (theta[1:-1, 2:] + theta[1:-1, :-2] + theta[2:, 1:-1] + theta[:-2, 1:-1] ) * 0.25\n",
    "        counter+=1"
   ]
  },
  {
   "cell_type": "code",
   "execution_count": 169,
   "metadata": {},
   "outputs": [
    {
     "name": "stdout",
     "output_type": "stream",
     "text": [
      "total time elapsed = 6.71180987358\n"
     ]
    }
   ],
   "source": [
    "start = time.time()\n",
    "compute_Poissons_vectorized()\n",
    "print \"total time elapsed = \"+str(time.time() - start)"
   ]
  },
  {
   "cell_type": "code",
   "execution_count": 170,
   "metadata": {},
   "outputs": [
    {
     "data": {
      "text/plain": [
       "10.449262405006705"
      ]
     },
     "execution_count": 170,
     "metadata": {},
     "output_type": "execute_result"
    }
   ],
   "source": [
    "70.125/6.711"
   ]
  },
  {
   "cell_type": "markdown",
   "metadata": {},
   "source": [
    "So we see a 10 times speedup between vectorized and pure python code. Let's try out the pure python code with a numba jit call:"
   ]
  },
  {
   "cell_type": "code",
   "execution_count": 172,
   "metadata": {
    "collapsed": true
   },
   "outputs": [],
   "source": [
    "@numba.jit\n",
    "def compute_Poissons_numba(N=10000):\n",
    "    theta = np.zeros((N,N))\n",
    "    \n",
    "    dx = 1./float(N)\n",
    "    \n",
    "    \n",
    "    theta[:,0] = 1.\n",
    "    counter = 0\n",
    "    while(counter < 10):\n",
    "        for i in range(1,N-1,1):\n",
    "            for j in range(1,N-1, 1):\n",
    "                theta[i,j] = (theta[i,j+1] + theta[i,j-1] + theta[i+1,j] + theta[i-1,j]) * 0.25\n",
    "            counter+=1"
   ]
  },
  {
   "cell_type": "code",
   "execution_count": 173,
   "metadata": {},
   "outputs": [
    {
     "name": "stdout",
     "output_type": "stream",
     "text": [
      "total time elapsed = 0.705707788467\n"
     ]
    }
   ],
   "source": [
    "start = time.time()\n",
    "compute_Poissons_numba()\n",
    "print \"total time elapsed = \"+str(time.time() - start)"
   ]
  },
  {
   "cell_type": "markdown",
   "metadata": {},
   "source": [
    "Numba seems to have done better, with a 100 times speedup! Cython usually shows similar performance as compared to numba"
   ]
  },
  {
   "cell_type": "code",
   "execution_count": null,
   "metadata": {
    "collapsed": true
   },
   "outputs": [],
   "source": []
  }
 ],
 "metadata": {
  "kernelspec": {
   "display_name": "Python 2",
   "language": "python",
   "name": "python2"
  },
  "language_info": {
   "codemirror_mode": {
    "name": "ipython",
    "version": 2
   },
   "file_extension": ".py",
   "mimetype": "text/x-python",
   "name": "python",
   "nbconvert_exporter": "python",
   "pygments_lexer": "ipython2",
   "version": "2.7.13"
  }
 },
 "nbformat": 4,
 "nbformat_minor": 2
}
